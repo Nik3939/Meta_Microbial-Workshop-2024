{
 "cells": [
  {
   "cell_type": "code",
   "execution_count": 16,
   "id": "f1a093a8",
   "metadata": {},
   "outputs": [],
   "source": [
    "#Importing general libraries \n",
    "import pandas as pd\n",
    "import numpy as np\n",
    "import matplotlib.pyplot as plt\n",
    "import seaborn as sns"
   ]
  },
  {
   "cell_type": "markdown",
   "id": "b18fe826",
   "metadata": {},
   "source": [
    "# General Statistics"
   ]
  },
  {
   "cell_type": "code",
   "execution_count": 17,
   "id": "9d664844",
   "metadata": {},
   "outputs": [],
   "source": [
    "#Importing data from CheckM\n",
    "#checkm_data is a table containing various information among which, Contamination and Completeness\n",
    "bins_stats = pd.read_csv('bin_stats_ext.tsv', sep = '\\t', names =['bin_name','stats'])"
   ]
  },
  {
   "cell_type": "code",
   "execution_count": 18,
   "id": "89506f4a",
   "metadata": {},
   "outputs": [],
   "source": [
    "#transform bins_stats in an actual output that can be used \n",
    "g_dict = {}\n",
    "i = 0\n",
    "for b in bins_stats['bin_name']:\n",
    "    e_dict = {}\n",
    "    i_e = 0\n",
    "    for e in bins_stats.iloc[i,1].strip('{}').split(','):\n",
    "        if i_e <= 26:\n",
    "            e_dict[e.split(':')[0].strip(' \"\\'')]=e.split(':')[1]\n",
    "            i_e += 1\n",
    "    g_dict[b] = e_dict\n",
    "    i += 1"
   ]
  },
  {
   "cell_type": "code",
   "execution_count": 19,
   "id": "82df997b",
   "metadata": {},
   "outputs": [],
   "source": [
    "#stats is a DataFrame containing the stats per bin of bins_stats\n",
    "stats = pd.DataFrame(g_dict).transpose().round(2)\n",
    "stats.reset_index(inplace=True, drop = False, names = 'Bin Name')"
   ]
  },
  {
   "cell_type": "code",
   "execution_count": 20,
   "id": "0438836b",
   "metadata": {},
   "outputs": [
    {
     "data": {
      "text/html": [
       "<div>\n",
       "<style scoped>\n",
       "    .dataframe tbody tr th:only-of-type {\n",
       "        vertical-align: middle;\n",
       "    }\n",
       "\n",
       "    .dataframe tbody tr th {\n",
       "        vertical-align: top;\n",
       "    }\n",
       "\n",
       "    .dataframe thead th {\n",
       "        text-align: right;\n",
       "    }\n",
       "</style>\n",
       "<table border=\"1\" class=\"dataframe\">\n",
       "  <thead>\n",
       "    <tr style=\"text-align: right;\">\n",
       "      <th></th>\n",
       "      <th>Bin Name</th>\n",
       "      <th>marker lineage</th>\n",
       "      <th># genomes</th>\n",
       "      <th># markers</th>\n",
       "      <th># marker sets</th>\n",
       "      <th>0</th>\n",
       "      <th>1</th>\n",
       "      <th>2</th>\n",
       "      <th>3</th>\n",
       "      <th>4</th>\n",
       "      <th>...</th>\n",
       "      <th># contigs</th>\n",
       "      <th>Longest scaffold</th>\n",
       "      <th>Longest contig</th>\n",
       "      <th>N50 (scaffolds)</th>\n",
       "      <th>N50 (contigs)</th>\n",
       "      <th>Mean scaffold length</th>\n",
       "      <th>Mean contig length</th>\n",
       "      <th>Coding density</th>\n",
       "      <th>Translation table</th>\n",
       "      <th># predicted genes</th>\n",
       "    </tr>\n",
       "  </thead>\n",
       "  <tbody>\n",
       "    <tr>\n",
       "      <th>0</th>\n",
       "      <td>bin.4</td>\n",
       "      <td>'root'</td>\n",
       "      <td>5656</td>\n",
       "      <td>56</td>\n",
       "      <td>24</td>\n",
       "      <td>56</td>\n",
       "      <td>0</td>\n",
       "      <td>0</td>\n",
       "      <td>0</td>\n",
       "      <td>0</td>\n",
       "      <td>...</td>\n",
       "      <td>40</td>\n",
       "      <td>15919</td>\n",
       "      <td>15919</td>\n",
       "      <td>7063</td>\n",
       "      <td>7063</td>\n",
       "      <td>6550.025</td>\n",
       "      <td>6550.025</td>\n",
       "      <td>0.8725386544326167</td>\n",
       "      <td>11</td>\n",
       "      <td>251</td>\n",
       "    </tr>\n",
       "    <tr>\n",
       "      <th>1</th>\n",
       "      <td>bin.3</td>\n",
       "      <td>'root'</td>\n",
       "      <td>5656</td>\n",
       "      <td>56</td>\n",
       "      <td>24</td>\n",
       "      <td>56</td>\n",
       "      <td>0</td>\n",
       "      <td>0</td>\n",
       "      <td>0</td>\n",
       "      <td>0</td>\n",
       "      <td>...</td>\n",
       "      <td>18</td>\n",
       "      <td>110609</td>\n",
       "      <td>110609</td>\n",
       "      <td>26187</td>\n",
       "      <td>26187</td>\n",
       "      <td>20379.61111111111</td>\n",
       "      <td>20379.61111111111</td>\n",
       "      <td>0.9533657004686056</td>\n",
       "      <td>11</td>\n",
       "      <td>463</td>\n",
       "    </tr>\n",
       "    <tr>\n",
       "      <th>2</th>\n",
       "      <td>bin.2</td>\n",
       "      <td>'root'</td>\n",
       "      <td>5656</td>\n",
       "      <td>56</td>\n",
       "      <td>24</td>\n",
       "      <td>45</td>\n",
       "      <td>0</td>\n",
       "      <td>6</td>\n",
       "      <td>0</td>\n",
       "      <td>4</td>\n",
       "      <td>...</td>\n",
       "      <td>48</td>\n",
       "      <td>74193</td>\n",
       "      <td>74193</td>\n",
       "      <td>40773</td>\n",
       "      <td>40773</td>\n",
       "      <td>22930.3125</td>\n",
       "      <td>22930.3125</td>\n",
       "      <td>0.9379015222753724</td>\n",
       "      <td>11</td>\n",
       "      <td>1140</td>\n",
       "    </tr>\n",
       "  </tbody>\n",
       "</table>\n",
       "<p>3 rows × 28 columns</p>\n",
       "</div>"
      ],
      "text/plain": [
       "  Bin Name marker lineage # genomes # markers # marker sets    0   1   2   3  \\\n",
       "0    bin.4         'root'      5656        56            24   56   0   0   0   \n",
       "1    bin.3         'root'      5656        56            24   56   0   0   0   \n",
       "2    bin.2         'root'      5656        56            24   45   0   6   0   \n",
       "\n",
       "    4  ... # contigs Longest scaffold Longest contig N50 (scaffolds)  \\\n",
       "0   0  ...        40            15919          15919            7063   \n",
       "1   0  ...        18           110609         110609           26187   \n",
       "2   4  ...        48            74193          74193           40773   \n",
       "\n",
       "  N50 (contigs) Mean scaffold length  Mean contig length       Coding density  \\\n",
       "0          7063             6550.025            6550.025   0.8725386544326167   \n",
       "1         26187    20379.61111111111   20379.61111111111   0.9533657004686056   \n",
       "2         40773           22930.3125          22930.3125   0.9379015222753724   \n",
       "\n",
       "  Translation table # predicted genes  \n",
       "0                11               251  \n",
       "1                11               463  \n",
       "2                11              1140  \n",
       "\n",
       "[3 rows x 28 columns]"
      ]
     },
     "execution_count": 20,
     "metadata": {},
     "output_type": "execute_result"
    }
   ],
   "source": [
    "#Visualizing the first 3 lines of stats table\n",
    "stats.head(3)"
   ]
  },
  {
   "cell_type": "code",
   "execution_count": 21,
   "id": "6e569c2e",
   "metadata": {},
   "outputs": [],
   "source": [
    "#Converting Completeness and Contamination values to float in order to filter\n",
    "stats['Completeness'] = stats['Completeness'].apply(float) \n",
    "stats['Contamination'] = stats['Contamination'].apply(float)"
   ]
  },
  {
   "cell_type": "code",
   "execution_count": 22,
   "id": "c6b0e18a",
   "metadata": {},
   "outputs": [
    {
     "data": {
      "text/html": [
       "<div>\n",
       "<style scoped>\n",
       "    .dataframe tbody tr th:only-of-type {\n",
       "        vertical-align: middle;\n",
       "    }\n",
       "\n",
       "    .dataframe tbody tr th {\n",
       "        vertical-align: top;\n",
       "    }\n",
       "\n",
       "    .dataframe thead th {\n",
       "        text-align: right;\n",
       "    }\n",
       "</style>\n",
       "<table border=\"1\" class=\"dataframe\">\n",
       "  <thead>\n",
       "    <tr style=\"text-align: right;\">\n",
       "      <th></th>\n",
       "      <th>Bin Name</th>\n",
       "      <th>marker lineage</th>\n",
       "      <th># genomes</th>\n",
       "      <th># markers</th>\n",
       "      <th># marker sets</th>\n",
       "      <th>0</th>\n",
       "      <th>1</th>\n",
       "      <th>2</th>\n",
       "      <th>3</th>\n",
       "      <th>4</th>\n",
       "      <th>...</th>\n",
       "      <th># contigs</th>\n",
       "      <th>Longest scaffold</th>\n",
       "      <th>Longest contig</th>\n",
       "      <th>N50 (scaffolds)</th>\n",
       "      <th>N50 (contigs)</th>\n",
       "      <th>Mean scaffold length</th>\n",
       "      <th>Mean contig length</th>\n",
       "      <th>Coding density</th>\n",
       "      <th>Translation table</th>\n",
       "      <th># predicted genes</th>\n",
       "    </tr>\n",
       "  </thead>\n",
       "  <tbody>\n",
       "    <tr>\n",
       "      <th>5</th>\n",
       "      <td>bin.1</td>\n",
       "      <td>'k__Bacteria'</td>\n",
       "      <td>5449</td>\n",
       "      <td>104</td>\n",
       "      <td>58</td>\n",
       "      <td>34</td>\n",
       "      <td>53</td>\n",
       "      <td>17</td>\n",
       "      <td>0</td>\n",
       "      <td>0</td>\n",
       "      <td>...</td>\n",
       "      <td>212</td>\n",
       "      <td>20314</td>\n",
       "      <td>20314</td>\n",
       "      <td>4372</td>\n",
       "      <td>4372</td>\n",
       "      <td>4469.056603773585</td>\n",
       "      <td>4469.056603773585</td>\n",
       "      <td>0.962491556193532</td>\n",
       "      <td>11</td>\n",
       "      <td>1114</td>\n",
       "    </tr>\n",
       "    <tr>\n",
       "      <th>8</th>\n",
       "      <td>bin.12</td>\n",
       "      <td>'o__Actinomycetales'</td>\n",
       "      <td>488</td>\n",
       "      <td>310</td>\n",
       "      <td>185</td>\n",
       "      <td>26</td>\n",
       "      <td>279</td>\n",
       "      <td>5</td>\n",
       "      <td>0</td>\n",
       "      <td>0</td>\n",
       "      <td>...</td>\n",
       "      <td>169</td>\n",
       "      <td>55177</td>\n",
       "      <td>55177</td>\n",
       "      <td>17984</td>\n",
       "      <td>17984</td>\n",
       "      <td>11895.526627218935</td>\n",
       "      <td>11895.526627218935</td>\n",
       "      <td>0.9263688204605779</td>\n",
       "      <td>11</td>\n",
       "      <td>2144</td>\n",
       "    </tr>\n",
       "    <tr>\n",
       "      <th>10</th>\n",
       "      <td>bin.6</td>\n",
       "      <td>'f__Rhodobacteraceae'</td>\n",
       "      <td>46</td>\n",
       "      <td>654</td>\n",
       "      <td>332</td>\n",
       "      <td>248</td>\n",
       "      <td>403</td>\n",
       "      <td>3</td>\n",
       "      <td>0</td>\n",
       "      <td>0</td>\n",
       "      <td>...</td>\n",
       "      <td>441</td>\n",
       "      <td>12440</td>\n",
       "      <td>12440</td>\n",
       "      <td>4336</td>\n",
       "      <td>4336</td>\n",
       "      <td>4231.922902494331</td>\n",
       "      <td>4231.922902494331</td>\n",
       "      <td>0.8759825706566761</td>\n",
       "      <td>11</td>\n",
       "      <td>2116</td>\n",
       "    </tr>\n",
       "  </tbody>\n",
       "</table>\n",
       "<p>3 rows × 28 columns</p>\n",
       "</div>"
      ],
      "text/plain": [
       "   Bin Name          marker lineage # genomes # markers # marker sets     0  \\\n",
       "5     bin.1           'k__Bacteria'      5449       104            58    34   \n",
       "8    bin.12    'o__Actinomycetales'       488       310           185    26   \n",
       "10    bin.6   'f__Rhodobacteraceae'        46       654           332   248   \n",
       "\n",
       "       1    2   3   4  ... # contigs  Longest scaffold  Longest contig  \\\n",
       "5     53   17   0   0  ...       212             20314           20314   \n",
       "8    279    5   0   0  ...       169             55177           55177   \n",
       "10   403    3   0   0  ...       441             12440           12440   \n",
       "\n",
       "   N50 (scaffolds) N50 (contigs) Mean scaffold length   Mean contig length  \\\n",
       "5             4372          4372    4469.056603773585    4469.056603773585   \n",
       "8            17984         17984   11895.526627218935   11895.526627218935   \n",
       "10            4336          4336    4231.922902494331    4231.922902494331   \n",
       "\n",
       "         Coding density Translation table # predicted genes  \n",
       "5     0.962491556193532                11              1114  \n",
       "8    0.9263688204605779                11              2144  \n",
       "10   0.8759825706566761                11              2116  \n",
       "\n",
       "[3 rows x 28 columns]"
      ]
     },
     "execution_count": 22,
     "metadata": {},
     "output_type": "execute_result"
    }
   ],
   "source": [
    "#Filter for Completeness>=50 and Contamination<=10\n",
    "stats.query('Completeness>=50 & Contamination<=10')"
   ]
  },
  {
   "cell_type": "code",
   "execution_count": 23,
   "id": "bf85fdba",
   "metadata": {},
   "outputs": [],
   "source": [
    "#Sort values for completeness\n",
    "stats_o = stats.sort_values(by='Completeness', ascending = False)"
   ]
  },
  {
   "cell_type": "code",
   "execution_count": 25,
   "id": "83269ae1",
   "metadata": {},
   "outputs": [
    {
     "data": {
      "text/plain": [
       "[]"
      ]
     },
     "execution_count": 25,
     "metadata": {},
     "output_type": "execute_result"
    },
    {
     "data": {
      "image/png": "[encoded data removed]",
      "text/plain": [
       "<Figure size 432x288 with 2 Axes>"
      ]
     },
     "metadata": {
      "needs_background": "light"
     },
     "output_type": "display_data"
    }
   ],
   "source": [
    "fig,ax = plt.subplots()\n",
    "\n",
    "ax1 = ax.twinx()\n",
    "ax1.set_ylim(0,100)\n",
    "ax1.set_yticks(np.arange(0,110,10), [str(e) for e in np.arange(0,110,10)],color='red')\n",
    "ax1.set_ylabel('Contamination', color='red')\n",
    "\n",
    "ax.set_ylim(0,100)\n",
    "ax.set_ylim(0,100)\n",
    "ax.set_yticks(np.arange(0,110,10), [str(e) for e in np.arange(0,110,10)],color='green')\n",
    "ax.set_ylabel('Completeness', color='green')\n",
    "\n",
    "ax.set_xticks(np.arange(0,12,1), stats_o['Bin Name'].values, rotation = 90)\n",
    "\n",
    "sns.barplot(data=stats_o, x = 'Bin Name', y = 'Completeness', color = 'green',ax = ax, edgecolor ='black')\n",
    "sns.barplot(data=stats_o, x = 'Bin Name', y = 'Contamination',color = 'red',ax = ax1,edgecolor ='black')\n",
    "\n",
    "plt.plot()"
   ]
  },
  {
   "cell_type": "markdown",
   "id": "9dd82214",
   "metadata": {},
   "source": [
    "# Taxonomy"
   ]
  },
  {
   "cell_type": "code",
   "execution_count": 28,
   "id": "d83ecde6",
   "metadata": {},
   "outputs": [],
   "source": [
    "#Importing the taxonomy obtained with GTDB-Tk\n",
    "tax = pd.read_csv('gtdbtk.bac120.summary.tsv', sep = '\\t')"
   ]
  },
  {
   "cell_type": "code",
   "execution_count": 29,
   "id": "34d3bf3d",
   "metadata": {},
   "outputs": [
    {
     "data": {
      "text/html": [
       "<div>\n",
       "<style scoped>\n",
       "    .dataframe tbody tr th:only-of-type {\n",
       "        vertical-align: middle;\n",
       "    }\n",
       "\n",
       "    .dataframe tbody tr th {\n",
       "        vertical-align: top;\n",
       "    }\n",
       "\n",
       "    .dataframe thead th {\n",
       "        text-align: right;\n",
       "    }\n",
       "</style>\n",
       "<table border=\"1\" class=\"dataframe\">\n",
       "  <thead>\n",
       "    <tr style=\"text-align: right;\">\n",
       "      <th></th>\n",
       "      <th>user_genome</th>\n",
       "      <th>classification</th>\n",
       "      <th>closest_genome_reference</th>\n",
       "      <th>closest_genome_reference_radius</th>\n",
       "      <th>closest_genome_taxonomy</th>\n",
       "      <th>closest_genome_ani</th>\n",
       "      <th>closest_genome_af</th>\n",
       "      <th>closest_placement_reference</th>\n",
       "      <th>closest_placement_radius</th>\n",
       "      <th>closest_placement_taxonomy</th>\n",
       "      <th>closest_placement_ani</th>\n",
       "      <th>closest_placement_af</th>\n",
       "      <th>pplacer_taxonomy</th>\n",
       "      <th>classification_method</th>\n",
       "      <th>note</th>\n",
       "      <th>other_related_references(genome_id,species_name,radius,ANI,AF)</th>\n",
       "      <th>msa_percent</th>\n",
       "      <th>translation_table</th>\n",
       "      <th>red_value</th>\n",
       "      <th>warnings</th>\n",
       "    </tr>\n",
       "  </thead>\n",
       "  <tbody>\n",
       "    <tr>\n",
       "      <th>0</th>\n",
       "      <td>bin.1</td>\n",
       "      <td>d__Bacteria;p__Bacteroidota;c__Bacteroidia;o__...</td>\n",
       "      <td>GCA_905182065.1</td>\n",
       "      <td>95.0</td>\n",
       "      <td>d__Bacteria;p__Bacteroidota;c__Bacteroidia;o__...</td>\n",
       "      <td>98.83</td>\n",
       "      <td>0.736</td>\n",
       "      <td>GCA_905182065.1</td>\n",
       "      <td>95.0</td>\n",
       "      <td>d__Bacteria;p__Bacteroidota;c__Bacteroidia;o__...</td>\n",
       "      <td>98.83</td>\n",
       "      <td>0.736</td>\n",
       "      <td>d__Bacteria;p__Bacteroidota;c__Bacteroidia;o__...</td>\n",
       "      <td>taxonomic classification defined by topology a...</td>\n",
       "      <td>topological placement and ANI have congruent s...</td>\n",
       "      <td>GCA_002457075.1, s__Marisimplicoccus sp0024570...</td>\n",
       "      <td>47.35</td>\n",
       "      <td>11.0</td>\n",
       "      <td>NaN</td>\n",
       "      <td>Genome has more than 13.3% of markers with mul...</td>\n",
       "    </tr>\n",
       "    <tr>\n",
       "      <th>1</th>\n",
       "      <td>bin.10</td>\n",
       "      <td>d__Bacteria;p__;c__;o__;f__;g__;s__</td>\n",
       "      <td>NaN</td>\n",
       "      <td>NaN</td>\n",
       "      <td>NaN</td>\n",
       "      <td>NaN</td>\n",
       "      <td>NaN</td>\n",
       "      <td>NaN</td>\n",
       "      <td>NaN</td>\n",
       "      <td>NaN</td>\n",
       "      <td>NaN</td>\n",
       "      <td>NaN</td>\n",
       "      <td>d__Bacteria;p__Planctomycetota;c__Phycisphaera...</td>\n",
       "      <td>taxonomic novelty determined using RED</td>\n",
       "      <td>classification based on consensus between back...</td>\n",
       "      <td>NaN</td>\n",
       "      <td>25.42</td>\n",
       "      <td>11.0</td>\n",
       "      <td>0.40882</td>\n",
       "      <td>NaN</td>\n",
       "    </tr>\n",
       "    <tr>\n",
       "      <th>2</th>\n",
       "      <td>bin.11</td>\n",
       "      <td>d__Bacteria;p__Bacteroidota;c__Bacteroidia;o__...</td>\n",
       "      <td>NaN</td>\n",
       "      <td>NaN</td>\n",
       "      <td>NaN</td>\n",
       "      <td>NaN</td>\n",
       "      <td>NaN</td>\n",
       "      <td>NaN</td>\n",
       "      <td>NaN</td>\n",
       "      <td>NaN</td>\n",
       "      <td>NaN</td>\n",
       "      <td>NaN</td>\n",
       "      <td>d__Bacteria;p__Bacteroidota;c__Bacteroidia;o__...</td>\n",
       "      <td>taxonomic classification defined by topology a...</td>\n",
       "      <td>classification based on placement in class-lev...</td>\n",
       "      <td>GCA_905181835.1, s__GCA-002733185 sp905181835,...</td>\n",
       "      <td>41.55</td>\n",
       "      <td>11.0</td>\n",
       "      <td>0.98134</td>\n",
       "      <td>Genome has more than 25.0% of markers with mul...</td>\n",
       "    </tr>\n",
       "  </tbody>\n",
       "</table>\n",
       "</div>"
      ],
      "text/plain": [
       "  user_genome                                     classification  \\\n",
       "0       bin.1  d__Bacteria;p__Bacteroidota;c__Bacteroidia;o__...   \n",
       "1      bin.10                d__Bacteria;p__;c__;o__;f__;g__;s__   \n",
       "2      bin.11  d__Bacteria;p__Bacteroidota;c__Bacteroidia;o__...   \n",
       "\n",
       "  closest_genome_reference  closest_genome_reference_radius  \\\n",
       "0          GCA_905182065.1                             95.0   \n",
       "1                      NaN                              NaN   \n",
       "2                      NaN                              NaN   \n",
       "\n",
       "                             closest_genome_taxonomy  closest_genome_ani  \\\n",
       "0  d__Bacteria;p__Bacteroidota;c__Bacteroidia;o__...               98.83   \n",
       "1                                                NaN                 NaN   \n",
       "2                                                NaN                 NaN   \n",
       "\n",
       "   closest_genome_af closest_placement_reference  closest_placement_radius  \\\n",
       "0              0.736             GCA_905182065.1                      95.0   \n",
       "1                NaN                         NaN                       NaN   \n",
       "2                NaN                         NaN                       NaN   \n",
       "\n",
       "                          closest_placement_taxonomy  closest_placement_ani  \\\n",
       "0  d__Bacteria;p__Bacteroidota;c__Bacteroidia;o__...                  98.83   \n",
       "1                                                NaN                    NaN   \n",
       "2                                                NaN                    NaN   \n",
       "\n",
       "   closest_placement_af                                   pplacer_taxonomy  \\\n",
       "0                 0.736  d__Bacteria;p__Bacteroidota;c__Bacteroidia;o__...   \n",
       "1                   NaN  d__Bacteria;p__Planctomycetota;c__Phycisphaera...   \n",
       "2                   NaN  d__Bacteria;p__Bacteroidota;c__Bacteroidia;o__...   \n",
       "\n",
       "                               classification_method  \\\n",
       "0  taxonomic classification defined by topology a...   \n",
       "1             taxonomic novelty determined using RED   \n",
       "2  taxonomic classification defined by topology a...   \n",
       "\n",
       "                                                note  \\\n",
       "0  topological placement and ANI have congruent s...   \n",
       "1  classification based on consensus between back...   \n",
       "2  classification based on placement in class-lev...   \n",
       "\n",
       "  other_related_references(genome_id,species_name,radius,ANI,AF)  msa_percent  \\\n",
       "0  GCA_002457075.1, s__Marisimplicoccus sp0024570...                    47.35   \n",
       "1                                                NaN                    25.42   \n",
       "2  GCA_905181835.1, s__GCA-002733185 sp905181835,...                    41.55   \n",
       "\n",
       "   translation_table  red_value  \\\n",
       "0               11.0        NaN   \n",
       "1               11.0    0.40882   \n",
       "2               11.0    0.98134   \n",
       "\n",
       "                                            warnings  \n",
       "0  Genome has more than 13.3% of markers with mul...  \n",
       "1                                                NaN  \n",
       "2  Genome has more than 25.0% of markers with mul...  "
      ]
     },
     "execution_count": 29,
     "metadata": {},
     "output_type": "execute_result"
    }
   ],
   "source": [
    "#Visualizing the first 3 rows\n",
    "tax.head(3)"
   ]
  },
  {
   "cell_type": "code",
   "execution_count": 30,
   "id": "b92a6f94",
   "metadata": {},
   "outputs": [],
   "source": [
    "tx_c = tax.copy()"
   ]
  },
  {
   "cell_type": "code",
   "execution_count": 34,
   "id": "f33a7ec2",
   "metadata": {},
   "outputs": [],
   "source": [
    "#Grouping at order level\n",
    "tx_c['classification'] = [e[-4] if len(e) >= 2 else e[0] for e in tx_c['classification'].str.split(';')]\n",
    "tx_c['classification'] = ['Unclassified' if e == 'o__' else e for e in tx_c['classification']]"
   ]
  },
  {
   "cell_type": "code",
   "execution_count": 35,
   "id": "8bdeb6de",
   "metadata": {},
   "outputs": [],
   "source": [
    "#Selecting only the bins which resulted with Completeness>=50 and Contamination<=10\n",
    "select_tax = tax[['user_genome', 'classification', 'closest_genome_taxonomy', 'closest_genome_ani']].query('user_genome==\"bin.1\" | user_genome==\"bin.12\" | user_genome==\"bin.6\"')"
   ]
  },
  {
   "cell_type": "code",
   "execution_count": 36,
   "id": "bb1f29d4",
   "metadata": {},
   "outputs": [
    {
     "data": {
      "text/plain": [
       "[]"
      ]
     },
     "execution_count": 36,
     "metadata": {},
     "output_type": "execute_result"
    },
    {
     "data": {
      "image/png": "[encoded data removed]",
      "text/plain": [
       "<Figure size 432x288 with 1 Axes>"
      ]
     },
     "metadata": {},
     "output_type": "display_data"
    }
   ],
   "source": [
    "#Plotting the taxonomy structure\n",
    "fig, ax = plt.subplots()\n",
    "labels = tx_c['classification'].unique().tolist()\n",
    "sizes = tx_c.groupby('classification')['classification'].count()\n",
    "ax.pie(sizes, labels=labels,autopct='%1.1f%%', \n",
    "       pctdistance = 0.9, labeldistance=1.1, \n",
    "       textprops={'size': 'large'}, radius = 1.6, \n",
    "       wedgeprops={\"edgecolor\":\"k\",'linewidth': .5},\n",
    "       rotatelabels = True, colors = sns.color_palette('tab20c'))\n",
    "\n",
    "plt.plot()"
   ]
  },
  {
   "cell_type": "markdown",
   "id": "48558fbb",
   "metadata": {},
   "source": [
    "# Community Structure"
   ]
  },
  {
   "cell_type": "code",
   "execution_count": 61,
   "id": "58b0157a",
   "metadata": {},
   "outputs": [],
   "source": [
    "#Importing the contig depth calculated during the binning phase with MetaBat2\n",
    "depth = pd.read_csv('final.contigs.fa.depth.txt', sep = '\\t')"
   ]
  },
  {
   "cell_type": "code",
   "execution_count": 63,
   "id": "281d42a0",
   "metadata": {},
   "outputs": [
    {
     "data": {
      "text/html": [
       "<div>\n",
       "<style scoped>\n",
       "    .dataframe tbody tr th:only-of-type {\n",
       "        vertical-align: middle;\n",
       "    }\n",
       "\n",
       "    .dataframe tbody tr th {\n",
       "        vertical-align: top;\n",
       "    }\n",
       "\n",
       "    .dataframe thead th {\n",
       "        text-align: right;\n",
       "    }\n",
       "</style>\n",
       "<table border=\"1\" class=\"dataframe\">\n",
       "  <thead>\n",
       "    <tr style=\"text-align: right;\">\n",
       "      <th></th>\n",
       "      <th>contigName</th>\n",
       "      <th>contigLen</th>\n",
       "      <th>totalAvgDepth</th>\n",
       "      <th>M19-81.bam</th>\n",
       "      <th>M19-81.bam-var</th>\n",
       "      <th>M19-84.bam</th>\n",
       "      <th>M19-84.bam-var</th>\n",
       "      <th>M19-88.bam</th>\n",
       "      <th>M19-88.bam-var</th>\n",
       "    </tr>\n",
       "  </thead>\n",
       "  <tbody>\n",
       "    <tr>\n",
       "      <th>0</th>\n",
       "      <td>k141_1379</td>\n",
       "      <td>1888</td>\n",
       "      <td>11.2716</td>\n",
       "      <td>5.75777</td>\n",
       "      <td>9.6033</td>\n",
       "      <td>3.18700</td>\n",
       "      <td>4.11182</td>\n",
       "      <td>2.32681</td>\n",
       "      <td>2.49646</td>\n",
       "    </tr>\n",
       "    <tr>\n",
       "      <th>1</th>\n",
       "      <td>k141_59274</td>\n",
       "      <td>1673</td>\n",
       "      <td>18.7663</td>\n",
       "      <td>6.74458</td>\n",
       "      <td>36.0760</td>\n",
       "      <td>4.53316</td>\n",
       "      <td>15.77470</td>\n",
       "      <td>7.48851</td>\n",
       "      <td>35.90460</td>\n",
       "    </tr>\n",
       "    <tr>\n",
       "      <th>2</th>\n",
       "      <td>k141_92346</td>\n",
       "      <td>1927</td>\n",
       "      <td>158.6500</td>\n",
       "      <td>18.74110</td>\n",
       "      <td>44.5963</td>\n",
       "      <td>74.19860</td>\n",
       "      <td>513.39200</td>\n",
       "      <td>65.71020</td>\n",
       "      <td>347.90200</td>\n",
       "    </tr>\n",
       "  </tbody>\n",
       "</table>\n",
       "</div>"
      ],
      "text/plain": [
       "   contigName  contigLen  totalAvgDepth  M19-81.bam  M19-81.bam-var  \\\n",
       "0   k141_1379       1888        11.2716     5.75777          9.6033   \n",
       "1  k141_59274       1673        18.7663     6.74458         36.0760   \n",
       "2  k141_92346       1927       158.6500    18.74110         44.5963   \n",
       "\n",
       "   M19-84.bam  M19-84.bam-var  M19-88.bam  M19-88.bam-var  \n",
       "0     3.18700         4.11182     2.32681         2.49646  \n",
       "1     4.53316        15.77470     7.48851        35.90460  \n",
       "2    74.19860       513.39200    65.71020       347.90200  "
      ]
     },
     "execution_count": 63,
     "metadata": {},
     "output_type": "execute_result"
    }
   ],
   "source": [
    "#Visualizing the first 3 rows of the imported table\n",
    "depth.head(3)"
   ]
  },
  {
   "cell_type": "code",
   "execution_count": 65,
   "id": "ff72df2b",
   "metadata": {},
   "outputs": [],
   "source": [
    "#Importing from BioPython the SeqIO function to retrieve the ID of the contigs\n",
    "#inside each bin\n",
    "from Bio import SeqIO"
   ]
  },
  {
   "cell_type": "code",
   "execution_count": 84,
   "id": "b66e69b8",
   "metadata": {},
   "outputs": [],
   "source": [
    "#Calculating the feature table for our MAGs based on the average depth of contigs in our samples\n",
    "#we obtain the value by:\n",
    "#1.retrieving the contigs in the MAG\n",
    "contig_bin1 = [rec.id for rec in SeqIO.parse('metabat/bin.1.fa','fasta')]\n",
    "#2.creating a table with such contigs\n",
    "contig_bin1 = pd.DataFrame(contig_bin1, columns = ['contigName'])\n",
    "#3.calculating the average depth using the depth of every contig in our MAG\n",
    "count_bin1 = pd.DataFrame(contig_bin1.merge(depth).mean(numeric_only=True)[['M19-81.bam','M19-84.bam','M19-88.bam']], columns = ['bin.1'])\n",
    "\n",
    "#we repeat the process for all the MAG of interest\n",
    "\n",
    "contig_bin12 = [rec.id for rec in SeqIO.parse('metabat/bin.12.fa','fasta')]\n",
    "contig_bin12 = pd.DataFrame(contig_bin12, columns = ['contigName'])\n",
    "count_bin12 = pd.DataFrame(contig_bin12.merge(depth).mean(numeric_only=True)[['M19-81.bam','M19-84.bam','M19-88.bam']], columns = ['bin.12'])\n",
    "\n",
    "contig_bin6 = [rec.id for rec in SeqIO.parse('metabat/bin.6.fa','fasta')]\n",
    "contig_bin6 = pd.DataFrame(contig_bin6, columns = ['contigName'])\n",
    "count_bin6 = pd.DataFrame(contig_bin6.merge(depth).mean(numeric_only=True)[['M19-81.bam','M19-84.bam','M19-88.bam']], columns = ['bin.6'])"
   ]
  },
  {
   "cell_type": "code",
   "execution_count": 101,
   "id": "120f0316",
   "metadata": {},
   "outputs": [],
   "source": [
    "#Our final result is a feature table with the absolute count of every MAG in every sample\n",
    "count_table = pd.concat([count_bin1, count_bin12, count_bin6], axis = 1)"
   ]
  },
  {
   "cell_type": "code",
   "execution_count": 115,
   "id": "9627e8d3",
   "metadata": {},
   "outputs": [
    {
     "data": {
      "text/html": [
       "<div>\n",
       "<style scoped>\n",
       "    .dataframe tbody tr th:only-of-type {\n",
       "        vertical-align: middle;\n",
       "    }\n",
       "\n",
       "    .dataframe tbody tr th {\n",
       "        vertical-align: top;\n",
       "    }\n",
       "\n",
       "    .dataframe thead th {\n",
       "        text-align: right;\n",
       "    }\n",
       "</style>\n",
       "<table border=\"1\" class=\"dataframe\">\n",
       "  <thead>\n",
       "    <tr style=\"text-align: right;\">\n",
       "      <th></th>\n",
       "      <th>bin.1</th>\n",
       "      <th>bin.12</th>\n",
       "      <th>bin.6</th>\n",
       "    </tr>\n",
       "  </thead>\n",
       "  <tbody>\n",
       "    <tr>\n",
       "      <th>M19-81.bam</th>\n",
       "      <td>3.104162</td>\n",
       "      <td>2.631952</td>\n",
       "      <td>5.987388</td>\n",
       "    </tr>\n",
       "    <tr>\n",
       "      <th>M19-84.bam</th>\n",
       "      <td>3.677443</td>\n",
       "      <td>9.798408</td>\n",
       "      <td>3.219477</td>\n",
       "    </tr>\n",
       "    <tr>\n",
       "      <th>M19-88.bam</th>\n",
       "      <td>3.671614</td>\n",
       "      <td>6.285059</td>\n",
       "      <td>2.938957</td>\n",
       "    </tr>\n",
       "  </tbody>\n",
       "</table>\n",
       "</div>"
      ],
      "text/plain": [
       "               bin.1    bin.12     bin.6\n",
       "M19-81.bam  3.104162  2.631952  5.987388\n",
       "M19-84.bam  3.677443  9.798408  3.219477\n",
       "M19-88.bam  3.671614  6.285059  2.938957"
      ]
     },
     "execution_count": 115,
     "metadata": {},
     "output_type": "execute_result"
    }
   ],
   "source": [
    "#Visualizing the table\n",
    "count_table"
   ]
  },
  {
   "cell_type": "code",
   "execution_count": 171,
   "id": "8a63096a",
   "metadata": {},
   "outputs": [],
   "source": [
    "#We now need to calculate the feature table with the relative abundance \n",
    "#in order to normalize difference between sample and being able to compare them\n",
    "rel_table = count_table.divide(count_table.sum(axis = 1),axis = 0)"
   ]
  },
  {
   "cell_type": "code",
   "execution_count": 131,
   "id": "6d7f5e7d",
   "metadata": {},
   "outputs": [],
   "source": [
    "#Importing the metadata usefull to provide additional information to our findings\n",
    "lst_c = ['station','depth','bottom','sampleA','sampleB', 'sample', 'date', 'lon', 'lat', 'class']\n",
    "metadata = pd.read_csv('metadata.csv', header = None, names = lst_c)"
   ]
  },
  {
   "cell_type": "code",
   "execution_count": 139,
   "id": "b46d99b0",
   "metadata": {},
   "outputs": [],
   "source": [
    "#Create a dictionary to convert a particular sample to its defined class\n",
    "class_d = dict(zip(metadata['sample'].values,metadata['class'].values))"
   ]
  },
  {
   "cell_type": "code",
   "execution_count": 158,
   "id": "f0a66ec5",
   "metadata": {},
   "outputs": [],
   "source": [
    "#Create a dictionary to convert a particular genome to its taxonomy classification\n",
    "tx_d = dict(zip(tax['user_genome'].values, tax['classification'].values))"
   ]
  },
  {
   "cell_type": "code",
   "execution_count": 173,
   "id": "91bd03ae",
   "metadata": {},
   "outputs": [],
   "source": [
    "#Converting the MAGs number to their taxonomy classification\n",
    "rel_table.columns = [tx_d[e] for e in rel_table.columns]"
   ]
  },
  {
   "cell_type": "code",
   "execution_count": 191,
   "id": "c0e5675b",
   "metadata": {},
   "outputs": [
    {
     "data": {
      "image/png": "[encoded data removed]",
      "text/plain": [
       "<Figure size 432x288 with 1 Axes>"
      ]
     },
     "metadata": {
      "needs_background": "light"
     },
     "output_type": "display_data"
    }
   ],
   "source": [
    "#Plotting the relative abundance of our MAGs\n",
    "\n",
    "rel_table.plot(kind='bar',subplots=False, stacked = True, edgecolor = 'black', linewidth = 1.5)\n",
    "plt.xticks(range(3), [class_d[e.replace('-','_').split('.')[0]] for e in rel_table.index.tolist()])\n",
    "plt.ylabel('relative abundance')\n",
    "plt.yticks(np.arange(0,1.1,0.1),[str(e) for e in range(0,110,10)])\n",
    "plt.ylim(0,1.015)\n",
    "\n",
    "plt.legend(bbox_to_anchor = (1,1))\n",
    "\n",
    "plt.show()"
   ]
  },
  {
   "cell_type": "code",
   "execution_count": null,
   "id": "53acdba1",
   "metadata": {},
   "outputs": [],
   "source": []
  }
 ],
 "metadata": {
  "kernelspec": {
   "display_name": "Python 3 (ipykernel)",
   "language": "python",
   "name": "python3"
  },
  "language_info": {
   "codemirror_mode": {
    "name": "ipython",
    "version": 3
   },
   "file_extension": ".py",
   "mimetype": "text/x-python",
   "name": "python",
   "nbconvert_exporter": "python",
   "pygments_lexer": "ipython3",
   "version": "3.9.7"
  }
 },
 "nbformat": 4,
 "nbformat_minor": 5
}
